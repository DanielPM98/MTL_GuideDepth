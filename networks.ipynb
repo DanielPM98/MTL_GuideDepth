{
 "cells": [
  {
   "cell_type": "code",
   "execution_count": 1,
   "metadata": {},
   "outputs": [],
   "source": [
    "import torch\n",
    "\n",
    "\n",
    "from model.loader import load_model"
   ]
  },
  {
   "cell_type": "code",
   "execution_count": 2,
   "metadata": {},
   "outputs": [],
   "source": [
    "model = load_model('SingleGuideDepth', weights_pth=None)"
   ]
  },
  {
   "cell_type": "code",
   "execution_count": 3,
   "metadata": {},
   "outputs": [
    {
     "name": "stdout",
     "output_type": "stream",
     "text": [
      "Model parameters: 5824513\n",
      "Model trainable params: 5824513\n"
     ]
    }
   ],
   "source": [
    "total_params = sum(p.numel() for p in model.parameters())\n",
    "total_train_params = sum(p.numel() for p in model.parameters() if p.requires_grad)\n",
    "\n",
    "print(f'Model parameters: {total_params}')\n",
    "print(f'Model trainable params: {total_train_params}')"
   ]
  },
  {
   "cell_type": "code",
   "execution_count": 4,
   "metadata": {},
   "outputs": [
    {
     "name": "stdout",
     "output_type": "stream",
     "text": [
      "Model parameters: 5950335\n",
      "Model trainable params: 5950335\n"
     ]
    }
   ],
   "source": [
    "mtl_model = load_model('GuideDepth', weights_pth=None)\n",
    "\n",
    "total_params_mtl = sum(p.numel() for p in mtl_model.parameters())\n",
    "total_train_params_mtl = sum(p.numel() for p in mtl_model.parameters() if p.requires_grad)\n",
    "\n",
    "print(f'Model parameters: {total_params_mtl}')\n",
    "print(f'Model trainable params: {total_train_params_mtl}')"
   ]
  },
  {
   "cell_type": "code",
   "execution_count": 5,
   "metadata": {},
   "outputs": [
    {
     "name": "stdout",
     "output_type": "stream",
     "text": [
      "Increse in parameter count: 2.1602149398584913%\n"
     ]
    }
   ],
   "source": [
    "# Percentage incrase in parameters\n",
    "print(f'Increse in parameter count: {(total_params_mtl - total_params)*100 / total_params}%')"
   ]
  },
  {
   "cell_type": "code",
   "execution_count": 8,
   "metadata": {},
   "outputs": [
    {
     "name": "stdout",
     "output_type": "stream",
     "text": [
      "Model parameters: 6211371\n",
      "Model trainable params: 6211371\n",
      "Increse in parameter count: 6.641894352369031%\n"
     ]
    }
   ],
   "source": [
    "mtl_model = load_model('GuideHybrid', weights_pth=None)\n",
    "\n",
    "total_params_mtl = sum(p.numel() for p in mtl_model.parameters())\n",
    "total_train_params_mtl = sum(p.numel() for p in mtl_model.parameters() if p.requires_grad)\n",
    "\n",
    "print(f'Model parameters: {total_params_mtl}')\n",
    "print(f'Model trainable params: {total_train_params_mtl}')\n",
    "\n",
    "# Percentage incrase in parameters\n",
    "print(f'Increse in parameter count: {(total_params_mtl - total_params)*100 / total_params}%')"
   ]
  }
 ],
 "metadata": {
  "kernelspec": {
   "display_name": "thesis_env",
   "language": "python",
   "name": "python3"
  },
  "language_info": {
   "codemirror_mode": {
    "name": "ipython",
    "version": 3
   },
   "file_extension": ".py",
   "mimetype": "text/x-python",
   "name": "python",
   "nbconvert_exporter": "python",
   "pygments_lexer": "ipython3",
   "version": "3.10.12"
  }
 },
 "nbformat": 4,
 "nbformat_minor": 2
}
